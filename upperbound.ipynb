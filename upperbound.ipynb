{
 "cells": [
  {
   "cell_type": "code",
   "execution_count": 1,
   "metadata": {},
   "outputs": [
    {
     "name": "stdout",
     "output_type": "stream",
     "text": [
      "loading annotations into memory...\n",
      "Done (t=1.68s)\n",
      "creating index...\n",
      "index created!\n"
     ]
    }
   ],
   "source": [
    "import matplotlib.pyplot as plt\n",
    "import numpy as np\n",
    "from pycocotools.coco import COCO\n",
    "import json\n",
    "from pycocotools.cocoeval import COCOeval\n",
    "import pickle\n",
    "\n",
    "pickleFilePath = '../data/data/data/da_D0.pkl'\n",
    "pickleFilePath = '../data/data/data/ub_D0.pkl'\n",
    "pickleFile = open(pickleFilePath,'rb')\n",
    "pred_pkl = pickle.load(pickleFile)\n",
    "\n",
    "anno_path = '../data/data/bdd100k/annotations/det_val_D0.json'\n",
    "save_path = '../data/experiment/result.json'\n",
    "coco = COCO(anno_path)\n",
    "\n",
    "def get_pred_data_pkl(img_id):\n",
    "    index = img_id - 1\n",
    "    cls_score = pred_pkl[index]['pred_instances']['scores'].numpy()\n",
    "    bbox = pred_pkl[index]['pred_instances']['bboxes'].numpy()\n",
    "    cat_ids = pred_pkl[index]['pred_instances']['labels'].numpy()\n",
    "    return cat_ids,cls_score,bbox\n",
    "\n",
    "def get_gt_data(img_id):\n",
    "    anno_id = coco.getAnnIds(img_id)\n",
    "    anno_data = coco.loadAnns(anno_id)\n",
    "    bbox_list = []; cate_list = []\n",
    "    for anno in anno_data:\n",
    "        x1, y1, w, h = anno['bbox']\n",
    "        bbox_list.append([x1, y1, x1+w, y1+h])\n",
    "        cate_list.append(anno['category_id'])\n",
    "    bbox_data = np.array(bbox_list)\n",
    "    cate_data = np.array(cate_list)\n",
    "    return cate_data,bbox_data"
   ]
  },
  {
   "cell_type": "code",
   "execution_count": 10,
   "metadata": {},
   "outputs": [],
   "source": [
    "def calculate_iou(box1, box2):\n",
    "    # Calculate Intersection over Union (IoU) between two bounding boxes\n",
    "    x1 = max(box1[0], box2[0])\n",
    "    y1 = max(box1[1], box2[1])\n",
    "    x2 = min(box1[2], box2[2])\n",
    "    y2 = min(box1[3], box2[3])\n",
    "\n",
    "    intersection_area = max(0, x2 - x1 + 1) * max(0, y2 - y1 + 1)\n",
    "    box1_area = (box1[2] - box1[0] + 1) * (box1[3] - box1[1] + 1)\n",
    "    box2_area = (box2[2] - box2[0] + 1) * (box2[3] - box2[1] + 1)\n",
    "    union_area = box1_area + box2_area - intersection_area\n",
    "\n",
    "    iou = intersection_area / union_area\n",
    "    return iou\n",
    "\n",
    "def calculate_ap(recall, precision):\n",
    "    # Calculate Average Precision (AP) given recall and precision arrays\n",
    "    recall = np.concatenate(([0.], recall, [1.]))\n",
    "    precision = np.concatenate(([0.], precision, [0.]))\n",
    "\n",
    "    for i in range(len(precision) - 1, 0, -1):\n",
    "        precision[i - 1] = max(precision[i - 1], precision[i])\n",
    "\n",
    "    indices = np.where(recall[1:] != recall[:-1])[0]\n",
    "    ap = np.sum((recall[indices + 1] - recall[indices]) * precision[indices + 1])\n",
    "    return ap\n",
    "\n",
    "def calculate_map(img_id,iou_threshold=0.5):\n",
    "    cat_id_gt, bbox_gt = get_gt_data(img_id)\n",
    "    cat_id_pred,scores_pred,bbox__pred = get_pred_data_pkl(img_id)\n",
    "    average_precisions = []\n",
    "    for index in range(10):\n",
    "        cid = index + 1\n",
    "        index_class_gt = np.where(cat_id_gt == cid)[0]\n",
    "        index_class_pred = np.where(cat_id_pred == cid)[0]\n",
    "        num_pred = index_class_pred.shape[0]\n",
    "        num_gt = index_class_gt.shape[0]\n",
    "\n",
    "        if num_pred == 0:\n",
    "            average_precisions.append(0)\n",
    "            continue\n",
    "\n",
    "        class_pred_score = scores_pred[index_class_pred]\n",
    "        class_pred_bbox = bbox__pred[index_class_pred]\n",
    "        class_pred_cid = cat_id_pred[index_class_pred]\n",
    "        class_gt_bbox = bbox_gt[index_class_gt]\n",
    "        \n",
    "        class_sorted_indices = np.argsort(-class_pred_score)\n",
    "        class_pred_score_sorted = class_pred_score[class_sorted_indices]\n",
    "        class_pred_bbox_sorted = class_pred_bbox[class_sorted_indices]\n",
    "        class_pred_cid_sorted = class_pred_cid[class_sorted_indices]\n",
    "        \n",
    "        true_positives = np.zeros(num_pred)\n",
    "        false_positives = np.zeros(num_pred)\n",
    "        matched_ground_truth = set()\n",
    "        \n",
    "        for index_in_class in range(num_pred):\n",
    "            if num_gt == 0:\n",
    "                false_positives[index_in_class] = 1\n",
    "                continue\n",
    "        \n",
    "            ious = [calculate_iou(class_pred_bbox_sorted[index_in_class], box) for box in class_gt_bbox]\n",
    "            max_iou = max(ious)\n",
    "            max_iou_index = np.argmax(ious)\n",
    "\n",
    "            if max_iou >= iou_threshold and max_iou_index not in matched_ground_truth:\n",
    "                true_positives[index_in_class] = 1\n",
    "                matched_ground_truth.add(max_iou_index)\n",
    "            else:\n",
    "                false_positives[index_in_class] = 1\n",
    "\n",
    "        true_positives = np.cumsum(true_positives)\n",
    "        false_positives = np.cumsum(false_positives)\n",
    "        recall = true_positives / num_gt\n",
    "        precision = true_positives / (true_positives + false_positives)\n",
    "\n",
    "        ap = calculate_ap(recall, precision)\n",
    "        average_precisions.append(ap)\n",
    "    \n",
    "    mAP = np.mean(average_precisions)\n",
    "    return mAP\n",
    "            \n",
    "        \n",
    "#     # Calculate mean Average Precision (mAP) for object detection\n",
    "#     num_classes = len(predictions)\n",
    "#     average_precisions = []\n",
    "\n",
    "#     for class_id in range(num_classes):\n",
    "#         class_ground_truth = ground_truth[class_id]\n",
    "#         class_predictions = predictions[class_id]\n",
    "\n",
    "#         num_ground_truth = len(class_ground_truth)\n",
    "#         num_predictions = len(class_predictions)\n",
    "\n",
    "#         if num_predictions == 0:\n",
    "#             average_precisions.append(0)\n",
    "#             continue\n",
    "        \n",
    "        \n",
    "#         sorted_indices = np.argsort(-class_predictions[:, 4])\n",
    "#         class_predictions = class_predictions[sorted_indices]\n",
    "\n",
    "#         true_positives = np.zeros(num_predictions)\n",
    "#         false_positives = np.zeros(num_predictions)\n",
    "#         matched_ground_truth = set()\n",
    "\n",
    "#         for i in range(num_predictions):\n",
    "#             prediction = class_predictions[i]\n",
    "#             if num_ground_truth == 0:\n",
    "#                 false_positives[i] = 1\n",
    "#                 continue\n",
    "\n",
    "#             ious = [calculate_iou(prediction[:4], box) for box in class_ground_truth]\n",
    "#             max_iou = max(ious)\n",
    "#             max_iou_index = np.argmax(ious)\n",
    "\n",
    "#             if max_iou >= iou_threshold and max_iou_index not in matched_ground_truth:\n",
    "#                 true_positives[i] = 1\n",
    "#                 matched_ground_truth.add(max_iou_index)\n",
    "#             else:\n",
    "#                 false_positives[i] = 1\n",
    "\n",
    "#         true_positives = np.cumsum(true_positives)\n",
    "#         false_positives = np.cumsum(false_positives)\n",
    "#         recall = true_positives / num_ground_truth\n",
    "#         precision = true_positives / (true_positives + false_positives)\n",
    "\n",
    "#         ap = calculate_ap(recall, precision)\n",
    "#         average_precisions.append(ap)\n",
    "\n",
    "#     mAP = np.mean(average_precisions)\n",
    "#     return mAP"
   ]
  },
  {
   "cell_type": "code",
   "execution_count": 2,
   "metadata": {},
   "outputs": [
    {
     "ename": "NameError",
     "evalue": "name 'calculate_map' is not defined",
     "output_type": "error",
     "traceback": [
      "\u001B[1;31m---------------------------------------------------------------------------\u001B[0m",
      "\u001B[1;31mNameError\u001B[0m                                 Traceback (most recent call last)",
      "\u001B[1;32m~\\AppData\\Local\\Temp\\ipykernel_120040\\1864101316.py\u001B[0m in \u001B[0;36m<module>\u001B[1;34m\u001B[0m\n\u001B[1;32m----> 1\u001B[1;33m \u001B[0mcalculate_map\u001B[0m\u001B[1;33m(\u001B[0m\u001B[1;36m1\u001B[0m\u001B[1;33m)\u001B[0m\u001B[1;33m\u001B[0m\u001B[0m\n\u001B[0m",
      "\u001B[1;31mNameError\u001B[0m: name 'calculate_map' is not defined"
     ]
    }
   ],
   "source": [
    "calculate_map(1)"
   ]
  },
  {
   "cell_type": "code",
   "execution_count": 2,
   "metadata": {},
   "outputs": [
    {
     "data": {
      "text/plain": "{'labels': tensor([1, 1, 1, 1, 1, 1, 1, 1, 1, 1, 1, 1, 1, 1, 1, 1, 1, 1, 1, 1, 1, 4, 3, 1,\n         1, 1, 1, 2, 1, 1, 3, 4, 3, 1, 1, 1, 1, 1, 4, 1, 1, 1, 1, 3, 1, 1, 1, 1,\n         4, 1, 1, 3, 1, 4, 3, 1, 3, 1, 1, 1, 3, 4, 1, 1, 1, 4, 1, 1, 1, 3, 1, 4,\n         4, 4, 1, 1, 1, 4, 4, 4, 1, 3, 1, 1, 1, 1, 4, 1, 4, 1, 4, 1, 1, 4, 1, 4,\n         1, 3, 3, 1]),\n 'bboxes': tensor([[8.2584e+02, 3.1841e+02, 1.2027e+03, 5.2043e+02],\n         [7.6065e+02, 3.0217e+02, 9.3773e+02, 4.3874e+02],\n         [2.4522e+02, 3.3364e+02, 3.3531e+02, 3.9058e+02],\n         [3.8576e+02, 3.3746e+02, 4.4746e+02, 3.7588e+02],\n         [7.2900e+02, 3.1923e+02, 7.9738e+02, 3.9146e+02],\n         [3.2548e+02, 3.4270e+02, 3.7755e+02, 3.8393e+02],\n         [1.5884e+02, 3.4243e+02, 2.6670e+02, 4.0316e+02],\n         [7.1457e+02, 3.2746e+02, 7.4514e+02, 3.7083e+02],\n         [4.5772e+02, 2.6481e+02, 5.8788e+02, 4.0854e+02],\n         [3.1706e+01, 3.3438e+02, 1.7182e+02, 4.1793e+02],\n         [6.0182e+02, 3.3351e+02, 6.2741e+02, 3.5212e+02],\n         [3.0833e-01, 3.1859e+02, 3.6254e+01, 4.3177e+02],\n         [6.8705e+02, 3.3054e+02, 7.1211e+02, 3.5268e+02],\n         [7.5139e+02, 3.2782e+02, 7.9712e+02, 3.9795e+02],\n         [6.7019e+02, 3.3253e+02, 6.8936e+02, 3.4587e+02],\n         [6.2556e+02, 3.3113e+02, 6.4482e+02, 3.4719e+02],\n         [7.0910e+02, 3.2865e+02, 7.3018e+02, 3.5942e+02],\n         [7.0775e+02, 3.3081e+02, 7.2383e+02, 3.5366e+02],\n         [6.4269e+02, 3.3298e+02, 6.5522e+02, 3.4580e+02],\n         [6.5651e+02, 3.3243e+02, 6.7147e+02, 3.4471e+02],\n         [5.8513e+02, 3.3327e+02, 6.0261e+02, 3.4645e+02],\n         [4.2880e+02, 3.0658e+02, 4.3751e+02, 3.1776e+02],\n         [4.5772e+02, 2.6481e+02, 5.8788e+02, 4.0854e+02],\n         [6.7942e+02, 3.3109e+02, 7.0320e+02, 3.4887e+02],\n         [4.4420e+02, 3.3464e+02, 4.6462e+02, 3.5750e+02],\n         [7.1879e+02, 3.2588e+02, 7.5276e+02, 3.7792e+02],\n         [6.4672e+02, 3.3250e+02, 6.6348e+02, 3.4566e+02],\n         [4.5769e+02, 2.6489e+02, 5.8810e+02, 4.0865e+02],\n         [7.2566e+02, 3.2439e+02, 7.6632e+02, 3.8780e+02],\n         [7.8557e+02, 3.0172e+02, 8.1168e+02, 3.1917e+02],\n         [3.1235e-01, 3.2078e+02, 3.7361e+01, 4.3153e+02],\n         [6.4931e+02, 3.0542e+02, 6.6138e+02, 3.1718e+02],\n         [3.1706e+01, 3.3438e+02, 1.7182e+02, 4.1793e+02],\n         [5.8139e+02, 3.1826e+02, 6.0075e+02, 3.4371e+02],\n         [7.5716e+02, 3.2768e+02, 8.0868e+02, 4.1328e+02],\n         [1.6143e+02, 3.0679e+02, 2.4270e+02, 3.4754e+02],\n         [5.8142e+02, 3.3178e+02, 5.9855e+02, 3.4857e+02],\n         [0.0000e+00, 3.2278e+02, 7.5746e+01, 4.3039e+02],\n         [3.7614e+02, 3.0379e+02, 3.8597e+02, 3.1824e+02],\n         [4.3287e+02, 3.3545e+02, 4.6018e+02, 3.5657e+02],\n         [4.4666e+02, 3.4176e+02, 4.6491e+02, 3.6902e+02],\n         [5.3387e-01, 3.5455e+02, 4.4197e+01, 4.3378e+02],\n         [6.4931e+02, 3.0542e+02, 6.6138e+02, 3.1718e+02],\n         [1.6143e+02, 3.0679e+02, 2.4270e+02, 3.4754e+02],\n         [4.3825e+02, 3.4059e+02, 4.6071e+02, 3.6724e+02],\n         [4.0620e+02, 3.3450e+02, 4.5035e+02, 3.6490e+02],\n         [0.0000e+00, 3.4708e+02, 2.3204e+01, 4.3488e+02],\n         [1.0822e+02, 3.2241e+02, 1.7112e+02, 3.4841e+02],\n         [6.3016e+02, 2.9039e+02, 6.5384e+02, 3.0293e+02],\n         [8.3075e+01, 3.2602e+02, 1.6289e+02, 3.5864e+02],\n         [6.3016e+02, 2.9039e+02, 6.5384e+02, 3.0293e+02],\n         [2.4505e+02, 3.3378e+02, 3.3557e+02, 3.9072e+02],\n         [7.0501e+00, 3.3053e+02, 5.8919e+01, 4.1803e+02],\n         [7.1133e+02, 3.0675e+02, 7.2909e+02, 3.1522e+02],\n         [3.2537e+02, 3.4247e+02, 3.7718e+02, 3.8383e+02],\n         [4.2842e+02, 3.3862e+02, 4.5358e+02, 3.7071e+02],\n         [6.0132e+02, 3.3320e+02, 6.2747e+02, 3.5227e+02],\n         [0.0000e+00, 3.6434e+02, 1.7311e+01, 4.3578e+02],\n         [4.5058e+02, 3.4979e+02, 4.6575e+02, 3.7450e+02],\n         [3.4136e+02, 3.4814e+02, 3.7892e+02, 3.8465e+02],\n         [7.8557e+02, 3.0172e+02, 8.1168e+02, 3.1917e+02],\n         [6.2555e+02, 3.0764e+02, 6.3746e+02, 3.1883e+02],\n         [2.4011e+02, 3.4458e+02, 2.8078e+02, 3.9099e+02],\n         [7.3097e+02, 3.3739e+02, 7.7755e+02, 3.9361e+02],\n         [5.7303e+02, 3.3019e+02, 5.8716e+02, 3.5640e+02],\n         [6.4119e+02, 3.0573e+02, 6.5441e+02, 3.1918e+02],\n         [7.2282e+02, 3.3352e+02, 7.4774e+02, 3.8347e+02],\n         [5.8412e+02, 3.2164e+02, 6.0532e+02, 3.4681e+02],\n         [7.0909e+02, 3.3466e+02, 7.2569e+02, 3.6460e+02],\n         [6.5651e+02, 3.3243e+02, 6.7147e+02, 3.4471e+02],\n         [4.5414e+02, 3.4486e+02, 4.6716e+02, 3.7164e+02],\n         [5.8139e+02, 3.1826e+02, 6.0075e+02, 3.4371e+02],\n         [4.2742e+02, 3.0607e+02, 4.4100e+02, 3.1915e+02],\n         [7.1207e+02, 3.0815e+02, 7.3585e+02, 3.1748e+02],\n         [5.9788e+02, 3.2290e+02, 6.2381e+02, 3.4924e+02],\n         [7.0428e+02, 3.2547e+02, 7.2354e+02, 3.4802e+02],\n         [7.1213e+02, 3.2339e+02, 7.3908e+02, 3.5105e+02],\n         [6.7221e+02, 3.0378e+02, 6.9126e+02, 3.1616e+02],\n         [5.7066e+02, 2.7623e+02, 5.8375e+02, 2.9345e+02],\n         [6.5501e+02, 3.0401e+02, 6.7036e+02, 3.1735e+02],\n         [6.7221e+02, 3.0378e+02, 6.9126e+02, 3.1616e+02],\n         [6.4269e+02, 3.3298e+02, 6.5522e+02, 3.4580e+02],\n         [4.3888e+02, 3.4754e+02, 4.5944e+02, 3.7209e+02],\n         [6.4119e+02, 3.0573e+02, 6.5441e+02, 3.1918e+02],\n         [5.7300e+02, 3.2461e+02, 5.9090e+02, 3.5143e+02],\n         [4.5539e+02, 3.5143e+02, 4.6685e+02, 3.7552e+02],\n         [7.1207e+02, 3.1047e+02, 7.3860e+02, 3.2639e+02],\n         [6.5501e+02, 3.0401e+02, 6.7036e+02, 3.1735e+02],\n         [6.5669e+02, 2.9948e+02, 6.7058e+02, 3.1384e+02],\n         [4.2767e+02, 3.2862e+02, 4.6336e+02, 3.5463e+02],\n         [6.7362e+02, 3.0062e+02, 6.8789e+02, 3.1196e+02],\n         [6.0911e+02, 2.9146e+02, 6.2529e+02, 3.0213e+02],\n         [3.5544e+02, 3.4825e+02, 3.8396e+02, 3.8198e+02],\n         [6.4698e+02, 2.9601e+02, 6.6070e+02, 3.1161e+02],\n         [4.4924e+02, 3.2738e+02, 4.6509e+02, 3.5777e+02],\n         [6.3629e+02, 2.9086e+02, 6.5293e+02, 3.0737e+02],\n         [7.2002e+02, 3.2324e+02, 7.4652e+02, 3.4761e+02],\n         [6.4672e+02, 3.3250e+02, 6.6348e+02, 3.4566e+02],\n         [6.2683e+02, 3.3182e+02, 6.4565e+02, 3.4715e+02],\n         [5.7973e+02, 3.1671e+02, 5.9585e+02, 3.3734e+02]]),\n 'scores': tensor([0.8561, 0.8178, 0.7640, 0.7377, 0.6830, 0.6827, 0.6642, 0.6521, 0.6415,\n         0.6232, 0.5674, 0.5242, 0.5081, 0.4092, 0.2696, 0.2434, 0.2420, 0.1564,\n         0.1533, 0.1363, 0.1287, 0.1213, 0.1169, 0.1054, 0.1023, 0.0817, 0.0795,\n         0.0786, 0.0733, 0.0732, 0.0644, 0.0631, 0.0600, 0.0553, 0.0522, 0.0509,\n         0.0506, 0.0488, 0.0485, 0.0478, 0.0476, 0.0474, 0.0453, 0.0420, 0.0409,\n         0.0395, 0.0380, 0.0377, 0.0361, 0.0352, 0.0348, 0.0339, 0.0324, 0.0319,\n         0.0317, 0.0315, 0.0312, 0.0306, 0.0303, 0.0300, 0.0297, 0.0295, 0.0285,\n         0.0269, 0.0261, 0.0259, 0.0256, 0.0238, 0.0237, 0.0234, 0.0226, 0.0218,\n         0.0218, 0.0217, 0.0216, 0.0208, 0.0207, 0.0207, 0.0204, 0.0199, 0.0198,\n         0.0198, 0.0189, 0.0184, 0.0183, 0.0182, 0.0180, 0.0171, 0.0168, 0.0164,\n         0.0163, 0.0162, 0.0161, 0.0160, 0.0157, 0.0155, 0.0154, 0.0154, 0.0152,\n         0.0140])}"
     },
     "execution_count": 2,
     "metadata": {},
     "output_type": "execute_result"
    }
   ],
   "source": [
    "pred_pkl[1]['pred_instances']"
   ]
  },
  {
   "cell_type": "code",
   "execution_count": null,
   "metadata": {},
   "outputs": [],
   "source": [
    "# 准备数据\n",
    "ground_truth_images = []  # 存储每张图片的 ground truth，可以是一个列表，每个元素表示一张图片的 ground truth\n",
    "predictions_images = []  # 存储每张图片的 predictions，可以是一个列表，每个元素表示一张图片的 predictions\n",
    "\n",
    "# 循环处理每张图片\n",
    "average_precisions = []\n",
    "for ground_truth, predictions in zip(ground_truth_images, predictions_images):\n",
    "    ap = calculate_map(ground_truth, predictions)\n",
    "    average_precisions.append(ap)\n",
    "\n",
    "# 计算 mAP\n",
    "mAP = np.mean(average_precisions)\n",
    "print(\"mAP:\", mAP)"
   ]
  },
  {
   "cell_type": "code",
   "execution_count": null,
   "metadata": {},
   "outputs": [],
   "source": []
  },
  {
   "cell_type": "code",
   "execution_count": 8,
   "metadata": {},
   "outputs": [],
   "source": []
  },
  {
   "cell_type": "code",
   "execution_count": null,
   "metadata": {
    "pycharm": {
     "is_executing": true
    }
   },
   "outputs": [],
   "source": [
    "coco_result = []\n",
    "for sample_img in pred_pkl:\n",
    "    result = []\n",
    "    img_id = int(sample_img['img_id'])\n",
    "    ann_num = len(sample_img['pred_instances']['labels'])\n",
    "    for index in range(ann_num):\n",
    "        label = coco.getCatIds()[int(sample_img['pred_instances']['labels'][index])]\n",
    "        score = float(sample_img['pred_instances']['scores'][index])\n",
    "        bbox_xyxy = sample_img['pred_instances']['bboxes'][index].numpy().tolist()\n",
    "        # if score < 0.1:\n",
    "        #     continue\n",
    "        xs = bbox_xyxy[0]\n",
    "        ys = bbox_xyxy[1]\n",
    "        ws = bbox_xyxy[2] - xs\n",
    "        hs = bbox_xyxy[3] - ys\n",
    "        bbox_xywh = [float(xs), float(ys), float(ws), float(hs)]   \n",
    "        result += [\n",
    "            {\n",
    "                'image_id': img_id,\n",
    "                'category_id': int(coco.getAnnIds()[label])+1,\n",
    "                'bbox': bbox_xywh,\n",
    "                'score': score\n",
    "            }\n",
    "        ]\n",
    "    # result = sorted(result, key=lambda x: x['score'])[-100:]\n",
    "    coco_result += result\n",
    "\n",
    "coco_dt = coco.loadRes(coco_result)\n",
    "coco_eval = COCOeval(coco, coco_dt,'bbox')\n",
    "# coco_eval.params.iouThrs = 0.05\n",
    "coco_eval.evaluate()\n",
    "coco_eval.accumulate()\n",
    "coco_eval.summarize()"
   ]
  },
  {
   "cell_type": "code",
   "execution_count": 110,
   "outputs": [
    {
     "data": {
      "text/plain": "int"
     },
     "execution_count": 110,
     "metadata": {},
     "output_type": "execute_result"
    }
   ],
   "source": [
    "type(coco.getCatIds()[0])"
   ],
   "metadata": {
    "collapsed": false
   }
  },
  {
   "cell_type": "code",
   "execution_count": null,
   "outputs": [],
   "source": [
    "get_gt_data(30)"
   ],
   "metadata": {
    "collapsed": false,
    "pycharm": {
     "is_executing": true
    }
   }
  },
  {
   "cell_type": "code",
   "execution_count": 85,
   "outputs": [
    {
     "ename": "ValueError",
     "evalue": "too many values to unpack (expected 2)",
     "output_type": "error",
     "traceback": [
      "\u001B[1;31m---------------------------------------------------------------------------\u001B[0m",
      "\u001B[1;31mValueError\u001B[0m                                Traceback (most recent call last)",
      "\u001B[1;32m~\\AppData\\Local\\Temp\\ipykernel_121144\\2401613795.py\u001B[0m in \u001B[0;36m<module>\u001B[1;34m\u001B[0m\n\u001B[1;32m----> 1\u001B[1;33m \u001B[0mx\u001B[0m\u001B[1;33m,\u001B[0m\u001B[0my\u001B[0m \u001B[1;33m=\u001B[0m \u001B[0mget_pred_data_pkl\u001B[0m\u001B[1;33m(\u001B[0m\u001B[1;36m30\u001B[0m\u001B[1;33m)\u001B[0m\u001B[1;33m\u001B[0m\u001B[0m\n\u001B[0m\u001B[0;32m      2\u001B[0m \u001B[0mcoco\u001B[0m\u001B[1;33m.\u001B[0m\u001B[0mgetCatIds\u001B[0m\u001B[1;33m(\u001B[0m\u001B[0mx\u001B[0m\u001B[1;33m)\u001B[0m\u001B[1;33m\u001B[0m\u001B[0m\n",
      "\u001B[1;31mValueError\u001B[0m: too many values to unpack (expected 2)"
     ]
    }
   ],
   "source": [
    "x,y = get_pred_data_pkl(30)"
   ],
   "metadata": {
    "collapsed": false
   }
  },
  {
   "cell_type": "code",
   "execution_count": 95,
   "metadata": {},
   "outputs": [],
   "source": [
    "ann = coco_dt.getAnnIds(30)\n",
    "anndata = coco_dt.loadAnns(ann)\n",
    "\n",
    "ann_gt = coco.getAnnIds(30)\n",
    "anndata_gt = coco.loadAnns(ann_gt)"
   ]
  },
  {
   "cell_type": "code",
   "execution_count": 96,
   "outputs": [
    {
     "data": {
      "text/plain": "[{'image_id': 30,\n  'category_id': '2',\n  'bbox': [553.5454711914062,\n   295.8017883300781,\n   71.5042724609375,\n   66.566162109375],\n  'score': 0.7775076627731323,\n  'segmentation': [[553.5454711914062,\n    295.8017883300781,\n    553.5454711914062,\n    362.3679504394531,\n    625.0497436523438,\n    362.3679504394531,\n    625.0497436523438,\n    295.8017883300781]],\n  'area': 4759.764992147684,\n  'id': 315,\n  'iscrowd': 0},\n {'image_id': 30,\n  'category_id': '2',\n  'bbox': [479.0517272949219,\n   315.17547607421875,\n   42.187469482421875,\n   26.43389892578125],\n  'score': 0.7029932141304016,\n  'segmentation': [[479.0517272949219,\n    315.17547607421875,\n    479.0517272949219,\n    341.609375,\n    521.2391967773438,\n    341.609375,\n    521.2391967773438,\n    315.17547607421875]],\n  'area': 1115.1793042328209,\n  'id': 316,\n  'iscrowd': 0},\n {'image_id': 30,\n  'category_id': '2',\n  'bbox': [714.23876953125,\n   252.2568359375,\n   223.241943359375,\n   170.72723388671875],\n  'score': 0.6652800440788269,\n  'segmentation': [[714.23876953125,\n    252.2568359375,\n    714.23876953125,\n    422.98406982421875,\n    937.480712890625,\n    422.98406982421875,\n    937.480712890625,\n    252.2568359375]],\n  'area': 38113.479477241635,\n  'id': 317,\n  'iscrowd': 0},\n {'image_id': 30,\n  'category_id': '3',\n  'bbox': [884.1629638671875,\n   122.27072143554688,\n   375.116943359375,\n   260.27838134765625],\n  'score': 0.6491531133651733,\n  'segmentation': [[884.1629638671875,\n    122.27072143554688,\n    884.1629638671875,\n    382.5491027832031,\n    1259.2799072265625,\n    382.5491027832031,\n    1259.2799072265625,\n    122.27072143554688]],\n  'area': 97634.83083365858,\n  'id': 318,\n  'iscrowd': 0},\n {'image_id': 30,\n  'category_id': '2',\n  'bbox': [256.14801025390625,\n   326.6427001953125,\n   32.3267822265625,\n   17.20050048828125],\n  'score': 0.48382508754730225,\n  'segmentation': [[256.14801025390625,\n    326.6427001953125,\n    256.14801025390625,\n    343.84320068359375,\n    288.47479248046875,\n    343.84320068359375,\n    288.47479248046875,\n    326.6427001953125]],\n  'area': 556.0368334725499,\n  'id': 319,\n  'iscrowd': 0},\n {'image_id': 30,\n  'category_id': '2',\n  'bbox': [0.37065887451171875,\n   319.8189697265625,\n   98.29004669189453,\n   84.1324462890625],\n  'score': 0.4497174024581909,\n  'segmentation': [[0.37065887451171875,\n    319.8189697265625,\n    0.37065887451171875,\n    403.951416015625,\n    98.66070556640625,\n    403.951416015625,\n    98.66070556640625,\n    319.8189697265625]],\n  'area': 8269.382074055262,\n  'id': 320,\n  'iscrowd': 0},\n {'image_id': 30,\n  'category_id': '4',\n  'bbox': [0.49976348876953125,\n   319.94775390625,\n   96.96762084960938,\n   84.18951416015625],\n  'score': 0.36024582386016846,\n  'segmentation': [[0.49976348876953125,\n    319.94775390625,\n    0.49976348876953125,\n    404.13726806640625,\n    97.4673843383789,\n    404.13726806640625,\n    97.4673843383789,\n    319.94775390625]],\n  'area': 8163.656888594851,\n  'id': 321,\n  'iscrowd': 0}]"
     },
     "execution_count": 96,
     "metadata": {},
     "output_type": "execute_result"
    }
   ],
   "source": [],
   "metadata": {
    "collapsed": false
   }
  },
  {
   "cell_type": "code",
   "execution_count": 75,
   "outputs": [
    {
     "data": {
      "text/plain": "[{'image_id': 30,\n  'category_id': 2,\n  'bbox': [553.5454711914062,\n   295.8017883300781,\n   71.5042724609375,\n   66.566162109375],\n  'score': 0.7775076627731323,\n  'segmentation': [[553.5454711914062,\n    295.8017883300781,\n    553.5454711914062,\n    362.3679504394531,\n    625.0497436523438,\n    362.3679504394531,\n    625.0497436523438,\n    295.8017883300781]],\n  'area': 4759.764992147684,\n  'id': 315,\n  'iscrowd': 0},\n {'image_id': 30,\n  'category_id': 2,\n  'bbox': [479.0517272949219,\n   315.17547607421875,\n   42.187469482421875,\n   26.43389892578125],\n  'score': 0.7029932141304016,\n  'segmentation': [[479.0517272949219,\n    315.17547607421875,\n    479.0517272949219,\n    341.609375,\n    521.2391967773438,\n    341.609375,\n    521.2391967773438,\n    315.17547607421875]],\n  'area': 1115.1793042328209,\n  'id': 316,\n  'iscrowd': 0},\n {'image_id': 30,\n  'category_id': 2,\n  'bbox': [714.23876953125,\n   252.2568359375,\n   223.241943359375,\n   170.72723388671875],\n  'score': 0.6652800440788269,\n  'segmentation': [[714.23876953125,\n    252.2568359375,\n    714.23876953125,\n    422.98406982421875,\n    937.480712890625,\n    422.98406982421875,\n    937.480712890625,\n    252.2568359375]],\n  'area': 38113.479477241635,\n  'id': 317,\n  'iscrowd': 0},\n {'image_id': 30,\n  'category_id': 3,\n  'bbox': [884.1629638671875,\n   122.27072143554688,\n   375.116943359375,\n   260.27838134765625],\n  'score': 0.6491531133651733,\n  'segmentation': [[884.1629638671875,\n    122.27072143554688,\n    884.1629638671875,\n    382.5491027832031,\n    1259.2799072265625,\n    382.5491027832031,\n    1259.2799072265625,\n    122.27072143554688]],\n  'area': 97634.83083365858,\n  'id': 318,\n  'iscrowd': 0},\n {'image_id': 30,\n  'category_id': 2,\n  'bbox': [256.14801025390625,\n   326.6427001953125,\n   32.3267822265625,\n   17.20050048828125],\n  'score': 0.48382508754730225,\n  'segmentation': [[256.14801025390625,\n    326.6427001953125,\n    256.14801025390625,\n    343.84320068359375,\n    288.47479248046875,\n    343.84320068359375,\n    288.47479248046875,\n    326.6427001953125]],\n  'area': 556.0368334725499,\n  'id': 319,\n  'iscrowd': 0},\n {'image_id': 30,\n  'category_id': 2,\n  'bbox': [0.37065887451171875,\n   319.8189697265625,\n   98.29004669189453,\n   84.1324462890625],\n  'score': 0.4497174024581909,\n  'segmentation': [[0.37065887451171875,\n    319.8189697265625,\n    0.37065887451171875,\n    403.951416015625,\n    98.66070556640625,\n    403.951416015625,\n    98.66070556640625,\n    319.8189697265625]],\n  'area': 8269.382074055262,\n  'id': 320,\n  'iscrowd': 0},\n {'image_id': 30,\n  'category_id': 4,\n  'bbox': [0.49976348876953125,\n   319.94775390625,\n   96.96762084960938,\n   84.18951416015625],\n  'score': 0.36024582386016846,\n  'segmentation': [[0.49976348876953125,\n    319.94775390625,\n    0.49976348876953125,\n    404.13726806640625,\n    97.4673843383789,\n    404.13726806640625,\n    97.4673843383789,\n    319.94775390625]],\n  'area': 8163.656888594851,\n  'id': 321,\n  'iscrowd': 0}]"
     },
     "execution_count": 75,
     "metadata": {},
     "output_type": "execute_result"
    }
   ],
   "source": [],
   "metadata": {
    "collapsed": false
   }
  },
  {
   "cell_type": "code",
   "execution_count": 75,
   "metadata": {},
   "outputs": [],
   "source": []
  },
  {
   "cell_type": "code",
   "execution_count": 76,
   "metadata": {},
   "outputs": [
    {
     "data": {
      "text/plain": "[{'file_name': 'b1fc95c9-cb2882c7.jpg',\n  'height': 720,\n  'width': 1280,\n  'id': 30}]"
     },
     "execution_count": 76,
     "metadata": {},
     "output_type": "execute_result"
    }
   ],
   "source": [
    "coco.loadImgs(30)"
   ]
  },
  {
   "cell_type": "code",
   "execution_count": 97,
   "metadata": {},
   "outputs": [
    {
     "name": "stdout",
     "output_type": "stream",
     "text": [
      "8\n",
      "8\n",
      "9\n",
      "3\n",
      "3\n",
      "3\n",
      "3\n",
      "3\n",
      "3\n",
      "3\n",
      "3\n",
      "3\n",
      "4\n",
      "------------------\n",
      "2\n"
     ]
    },
    {
     "ename": "TypeError",
     "evalue": "unsupported operand type(s) for -: 'str' and 'int'",
     "output_type": "error",
     "traceback": [
      "\u001B[1;31m---------------------------------------------------------------------------\u001B[0m",
      "\u001B[1;31mTypeError\u001B[0m                                 Traceback (most recent call last)",
      "\u001B[1;32m~\\AppData\\Local\\Temp\\ipykernel_121144\\3369542707.py\u001B[0m in \u001B[0;36m<module>\u001B[1;34m\u001B[0m\n\u001B[0;32m     63\u001B[0m     \u001B[0mh\u001B[0m \u001B[1;33m=\u001B[0m \u001B[0mbbox\u001B[0m\u001B[1;33m[\u001B[0m\u001B[1;36m3\u001B[0m\u001B[1;33m]\u001B[0m\u001B[1;33m\u001B[0m\u001B[0m\n\u001B[0;32m     64\u001B[0m     \u001B[1;31m# 绘制边界框\u001B[0m\u001B[1;33m\u001B[0m\u001B[1;33m\u001B[0m\u001B[0m\n\u001B[1;32m---> 65\u001B[1;33m     \u001B[0mdraw1\u001B[0m\u001B[1;33m.\u001B[0m\u001B[0mrectangle\u001B[0m\u001B[1;33m(\u001B[0m\u001B[1;33m[\u001B[0m\u001B[1;33m(\u001B[0m\u001B[0mx\u001B[0m\u001B[1;33m,\u001B[0m \u001B[0my\u001B[0m\u001B[1;33m)\u001B[0m\u001B[1;33m,\u001B[0m \u001B[1;33m(\u001B[0m\u001B[0mx\u001B[0m\u001B[1;33m+\u001B[0m\u001B[0mw\u001B[0m\u001B[1;33m,\u001B[0m \u001B[0my\u001B[0m\u001B[1;33m+\u001B[0m\u001B[0mh\u001B[0m\u001B[1;33m)\u001B[0m\u001B[1;33m]\u001B[0m\u001B[1;33m,\u001B[0m \u001B[0moutline\u001B[0m\u001B[1;33m=\u001B[0m\u001B[0mcolors\u001B[0m\u001B[1;33m[\u001B[0m\u001B[0minstance\u001B[0m\u001B[1;33m[\u001B[0m\u001B[1;34m'category_id'\u001B[0m\u001B[1;33m]\u001B[0m\u001B[1;33m-\u001B[0m\u001B[1;36m1\u001B[0m\u001B[1;33m]\u001B[0m\u001B[1;33m,\u001B[0m \u001B[0mwidth\u001B[0m\u001B[1;33m=\u001B[0m\u001B[1;36m2\u001B[0m\u001B[1;33m)\u001B[0m\u001B[1;33m\u001B[0m\u001B[0m\n\u001B[0m\u001B[0;32m     66\u001B[0m \u001B[1;31m# 保存画布\u001B[0m\u001B[1;33m\u001B[0m\u001B[1;33m\u001B[0m\u001B[0m\n\u001B[0;32m     67\u001B[0m \u001B[0mcanvas1\u001B[0m\u001B[1;33m.\u001B[0m\u001B[0msave\u001B[0m\u001B[1;33m(\u001B[0m\u001B[1;34m'./img/output_pred.png'\u001B[0m\u001B[1;33m)\u001B[0m\u001B[1;33m\u001B[0m\u001B[0m\n",
      "\u001B[1;31mTypeError\u001B[0m: unsupported operand type(s) for -: 'str' and 'int'"
     ]
    }
   ],
   "source": [
    "from PIL import Image, ImageDraw\n",
    "\n",
    "# 定义画布尺寸\n",
    "canvas_width = 1280\n",
    "canvas_height = 720\n",
    "\n",
    "# 创建空白画布\n",
    "canvas = Image.new('RGB', (canvas_width, canvas_height), 'white')\n",
    "\n",
    "# 创建绘图对象\n",
    "draw = ImageDraw.Draw(canvas)\n",
    "for instance in anndata_gt:\n",
    "    print(instance['category_id'])\n",
    "\n",
    "    bbox = instance['bbox']\n",
    "    colors = [\n",
    "    (255, 0, 0),      # 红色\n",
    "    (0, 255, 0),      # 绿色\n",
    "    (0, 0, 255),      # 蓝色\n",
    "    (255, 255, 0),    # 黄色\n",
    "    (255, 0, 255),    # 品红色\n",
    "    (0, 255, 255),    # 青色\n",
    "    (128, 0, 0),      # 深红色\n",
    "    (0, 128, 0),      # 深绿色\n",
    "    (0, 0, 128),      # 深蓝色\n",
    "    (128, 128, 128)   # 灰色\n",
    "    ]\n",
    "    # 定义边界框数据\n",
    "    x = bbox[0]\n",
    "    y = bbox[1]\n",
    "    w = bbox[2]\n",
    "    h = bbox[3]\n",
    "    # 绘制边界框\n",
    "    draw.rectangle([(x, y), (x+w, y+h)], outline=colors[instance['category_id']-1], width=2)\n",
    "# 保存画布\n",
    "canvas.save('./img/output_gt.png')\n",
    "\n",
    "print('------------------')\n",
    "\n",
    "canvas1 = Image.new('RGB', (canvas_width, canvas_height), 'white')\n",
    "draw1 = ImageDraw.Draw(canvas1)\n",
    "for instance in anndata:\n",
    "    if instance['score'] < 0.3:\n",
    "        continue\n",
    "    bbox = instance['bbox']\n",
    "    print(instance['category_id'])\n",
    "    colors = [\n",
    "    (255, 0, 0),      # 红色\n",
    "    (0, 255, 0),      # 绿色\n",
    "    (0, 0, 255),      # 蓝色\n",
    "    (255, 255, 0),    # 黄色\n",
    "    (255, 0, 255),    # 品红色\n",
    "    (0, 255, 255),    # 青色\n",
    "    (128, 0, 0),      # 深红色\n",
    "    (0, 128, 0),      # 深绿色\n",
    "    (0, 0, 128),      # 深蓝色\n",
    "    (128, 128, 128)   # 灰色\n",
    "    ]\n",
    "    # 定义边界框数据\n",
    "    x = bbox[0]\n",
    "    y = bbox[1]\n",
    "    w = bbox[2]\n",
    "    h = bbox[3]\n",
    "    # 绘制边界框\n",
    "    draw1.rectangle([(x, y), (x+w, y+h)], outline=colors[instance['category_id']-1], width=2)\n",
    "# 保存画布\n",
    "canvas1.save('./img/output_pred.png')"
   ]
  },
  {
   "cell_type": "code",
   "execution_count": null,
   "outputs": [],
   "source": [],
   "metadata": {
    "collapsed": false
   }
  }
 ],
 "metadata": {
  "kernelspec": {
   "display_name": "Python 3 (ipykernel)",
   "language": "python",
   "name": "python3"
  },
  "language_info": {
   "codemirror_mode": {
    "name": "ipython",
    "version": 3
   },
   "file_extension": ".py",
   "mimetype": "text/x-python",
   "name": "python",
   "nbconvert_exporter": "python",
   "pygments_lexer": "ipython3",
   "version": "3.7.0"
  }
 },
 "nbformat": 4,
 "nbformat_minor": 1
}
